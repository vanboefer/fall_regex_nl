{
 "metadata": {
  "language_info": {
   "codemirror_mode": {
    "name": "ipython",
    "version": 3
   },
   "file_extension": ".py",
   "mimetype": "text/x-python",
   "name": "python",
   "nbconvert_exporter": "python",
   "pygments_lexer": "ipython3",
   "version": "3.8.5-final"
  },
  "orig_nbformat": 2,
  "kernelspec": {
   "name": "python3",
   "display_name": "Python 3",
   "language": "python"
  }
 },
 "nbformat": 4,
 "nbformat_minor": 2,
 "cells": [
  {
   "cell_type": "code",
   "execution_count": 1,
   "metadata": {},
   "outputs": [
    {
     "output_type": "stream",
     "name": "stdout",
     "text": [
      "c:\\Users\\User\\OneDrive\\current_projects_jk\\fall_regex_nl\n"
     ]
    }
   ],
   "source": [
    "%cd ..\n",
    "import pandas as pd\n",
    "from src.fall_regex import process_sentence"
   ]
  },
  {
   "source": [
    "# Experiment 1\n",
    "\n",
    "Full vocabulary, no post-processing."
   ],
   "cell_type": "markdown",
   "metadata": {}
  },
  {
   "cell_type": "code",
   "execution_count": 2,
   "metadata": {},
   "outputs": [],
   "source": [
    "vocab_version = 'vocab_v01'\n",
    "vocab_df = pd.read_excel(f\"vocabulary/{vocab_version}.xlsx\", sheet_name='fall_cue_VOCAB', index_col=0)"
   ]
  },
  {
   "cell_type": "code",
   "execution_count": 3,
   "metadata": {},
   "outputs": [
    {
     "output_type": "execute_result",
     "data": {
      "text/plain": [
       "{'fall': True,\n",
       " 'vocab_found': True,\n",
       " 'pp_found': None,\n",
       " 'vocab_matches': [<re.Match object; span=(6, 17), match='gestruikeld'>],\n",
       " 'pp_matches': []}"
      ]
     },
     "metadata": {},
     "execution_count": 3
    }
   ],
   "source": [
    "# gold: FALL\n",
    "# output: FALL\n",
    "\n",
    "sentence = 'pt is gestruikeld over zijn catherslang en heeft hierbij een schaafwond opgelopen.'\n",
    "\n",
    "process_sentence(sentence, vocab_df.regex, pp_rules=None)"
   ]
  },
  {
   "cell_type": "code",
   "execution_count": 4,
   "metadata": {},
   "outputs": [
    {
     "output_type": "execute_result",
     "data": {
      "text/plain": [
       "{'fall': True,\n",
       " 'vocab_found': True,\n",
       " 'pp_found': None,\n",
       " 'vocab_matches': [<re.Match object; span=(43, 50), match='smakken'>],\n",
       " 'pp_matches': []}"
      ]
     },
     "metadata": {},
     "execution_count": 4
    }
   ],
   "source": [
    "# gold: NO FALL\n",
    "# output: FALL\n",
    "\n",
    "sentence = 'tijdens de maaltijd was de pt luid aan het smakken.'\n",
    "\n",
    "process_sentence(sentence, vocab_df.regex, pp_rules=None)"
   ]
  },
  {
   "source": [
    "# Experiment 2\n",
    "\n",
    "Modified (smaller) vocabulary, no post-processing.\n",
    "\n",
    "Based on analysis of examples like the above, 19 items for which less than 20% of the matches were true positives were removed from the vocabulary (including *smakken*). See the report for details."
   ],
   "cell_type": "markdown",
   "metadata": {}
  },
  {
   "cell_type": "code",
   "execution_count": 5,
   "metadata": {},
   "outputs": [],
   "source": [
    "vocab_version = 'vocab_v02'\n",
    "vocab_df = pd.read_excel(f\"vocabulary/{vocab_version}.xlsx\", sheet_name='fall_cue_VOCAB', index_col=0)"
   ]
  },
  {
   "cell_type": "code",
   "execution_count": 6,
   "metadata": {},
   "outputs": [
    {
     "output_type": "execute_result",
     "data": {
      "text/plain": [
       "{'fall': False,\n",
       " 'vocab_found': False,\n",
       " 'pp_found': None,\n",
       " 'vocab_matches': [],\n",
       " 'pp_matches': []}"
      ]
     },
     "metadata": {},
     "execution_count": 6
    }
   ],
   "source": [
    "# gold: NO FALL\n",
    "# output: NO FALL\n",
    "\n",
    "sentence = 'tijdens de maaltijd was de pt luid aan het smakken.'\n",
    "\n",
    "process_sentence(sentence, vocab_df.regex, pp_rules=None)"
   ]
  },
  {
   "cell_type": "code",
   "execution_count": 7,
   "metadata": {},
   "outputs": [
    {
     "output_type": "execute_result",
     "data": {
      "text/plain": [
       "{'fall': True,\n",
       " 'vocab_found': True,\n",
       " 'pp_found': None,\n",
       " 'vocab_matches': [<re.Match object; span=(20, 24), match='valt'>],\n",
       " 'pp_matches': []}"
      ]
     },
     "metadata": {},
     "execution_count": 7
    }
   ],
   "source": [
    "# gold: NO FALL\n",
    "# output: FALL\n",
    "\n",
    "sentence = 'Mw voelt zich goed, valt goed af richting streef gewicht.'\n",
    "\n",
    "process_sentence(sentence, vocab_df.regex, pp_rules=None)"
   ]
  },
  {
   "source": [
    "# Experiment 3\n",
    "\n",
    "Modified (smaller) vocabulary, post-processing rules.\n",
    "\n",
    "The post-processing rules remove some of the most frequent false positives, e.g. *in slaap vallen*, *afvallen*. See the report for details."
   ],
   "cell_type": "markdown",
   "metadata": {}
  },
  {
   "cell_type": "code",
   "execution_count": 8,
   "metadata": {},
   "outputs": [],
   "source": [
    "pp_df = pd.read_excel('vocabulary/pp_rules_v01.xlsx', sheet_name='fall_cue_VOCAB', index_col=0)"
   ]
  },
  {
   "cell_type": "code",
   "execution_count": 9,
   "metadata": {},
   "outputs": [
    {
     "output_type": "execute_result",
     "data": {
      "text/plain": [
       "{'fall': False,\n",
       " 'vocab_found': True,\n",
       " 'pp_found': True,\n",
       " 'vocab_matches': [<re.Match object; span=(20, 24), match='valt'>],\n",
       " 'pp_matches': [<re.Match object; span=(20, 32), match='valt goed af'>]}"
      ]
     },
     "metadata": {},
     "execution_count": 9
    }
   ],
   "source": [
    "# gold: NO FALL\n",
    "# output: NO FALL\n",
    "\n",
    "sentence = 'Mw voelt zich goed, valt goed af richting streef gewicht.'\n",
    "\n",
    "process_sentence(sentence, vocab_df.regex, pp_rules=pp_df.regex)"
   ]
  },
  {
   "cell_type": "code",
   "execution_count": 10,
   "metadata": {},
   "outputs": [
    {
     "output_type": "execute_result",
     "data": {
      "text/plain": [
       "{'fall': False,\n",
       " 'vocab_found': True,\n",
       " 'pp_found': True,\n",
       " 'vocab_matches': [<re.Match object; span=(37, 41), match='valt'>],\n",
       " 'pp_matches': [<re.Match object; span=(37, 61), match='valt tussendoor in slaap'>]}"
      ]
     },
     "metadata": {},
     "execution_count": 10
    }
   ],
   "source": [
    "# gold: NO FALL\n",
    "# output: NO FALL\n",
    "\n",
    "sentence = 'Mw is zeer traag met eten en drinken valt tussendoor in slaap.'\n",
    "\n",
    "process_sentence(sentence, vocab_df.regex, pp_rules=pp_df.regex)"
   ]
  },
  {
   "cell_type": "code",
   "execution_count": null,
   "metadata": {},
   "outputs": [],
   "source": []
  }
 ]
}